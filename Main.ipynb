{
 "cells": [
  {
   "cell_type": "code",
   "execution_count": 28,
   "metadata": {},
   "outputs": [],
   "source": [
    "INPUT_TRAINING_FOLDER = \"./Inputs/Images/Training/\"\n",
    "INPUT_TESTING_FOLDER = \"./Inputs/Images/Testing/\"\n",
    "\n",
    "MASKS_TRAINING_FOLDER = \"./Masks_512x512/Training/\"\n",
    "MASKS_TESTING_FOLDER = \"./Masks_512x512/Testing/\"\n",
    "\n",
    "PREDICT_FOLDER = \"./Predicts/\"\n",
    "\n",
    "IMAGE_SIZE = (512, 512)"
   ]
  },
  {
   "cell_type": "code",
   "execution_count": 29,
   "metadata": {},
   "outputs": [],
   "source": [
    "# Prepare images\n",
    "from images_prepare import optimized_pre_images\n",
    "X, X_sizes = optimized_pre_images(IMAGE_SIZE, INPUT_TRAINING_FOLDER)"
   ]
  },
  {
   "cell_type": "code",
   "execution_count": 30,
   "metadata": {},
   "outputs": [],
   "source": [
    "# Mask prepare\n",
    "Y, Y_sizes = optimized_pre_images(IMAGE_SIZE, path=MASKS_TRAINING_FOLDER) #Custom MASKS size IMG_SIZE"
   ]
  },
  {
   "cell_type": "code",
   "execution_count": 31,
   "metadata": {},
   "outputs": [
    {
     "name": "stdout",
     "output_type": "stream",
     "text": [
      "(108, 512, 512, 1) uint8 <class 'numpy.ndarray'>\n",
      "(108, 512, 512, 1) uint8 <class 'numpy.ndarray'>\n"
     ]
    }
   ],
   "source": [
    "# Kiểm tra size hình X, Y\n",
    "print(X.shape, X.dtype, type(X))\n",
    "print(Y.shape, Y.dtype, type(Y))"
   ]
  },
  {
   "cell_type": "code",
   "execution_count": 32,
   "metadata": {},
   "outputs": [],
   "source": [
    "\n",
    "# Chuyển giá trị kênh màu từ 0-255 về 0-1\n",
    "import numpy as np\n",
    "\n",
    "X = np.float32(X/255)\n",
    "Y = np.float32(Y/255)\n"
   ]
  },
  {
   "cell_type": "code",
   "execution_count": 33,
   "metadata": {},
   "outputs": [
    {
     "name": "stdout",
     "output_type": "stream",
     "text": [
      "(108, 512, 512, 1) float32 <class 'numpy.ndarray'>\n",
      "(108, 512, 512, 1) float32 <class 'numpy.ndarray'>\n"
     ]
    }
   ],
   "source": [
    "# Kiểm tra lại kiểu dữ liệu X, Y\n",
    "print(X.shape, X.dtype, type(X))\n",
    "print(Y.shape, Y.dtype, type(Y))"
   ]
  },
  {
   "cell_type": "code",
   "execution_count": 34,
   "metadata": {},
   "outputs": [],
   "source": [
    "# Đổi tên biến thành x_train, y_train để xài cho khúc dưới\n",
    "x_train = X.copy()\n",
    "y_train = Y.copy()"
   ]
  },
  {
   "cell_type": "code",
   "execution_count": 35,
   "metadata": {},
   "outputs": [
    {
     "name": "stdout",
     "output_type": "stream",
     "text": [
      "(6, 512, 512, 1) float32 <class 'numpy.ndarray'>\n",
      "(6, 512, 512, 1) float32 <class 'numpy.ndarray'>\n"
     ]
    }
   ],
   "source": [
    "# Load dữ liệu dùng để test và kết quả mong muốn cua nó\n",
    "# Xử lý chuyển các kênh màu về 0-1 tương tự ở trên\n",
    "x_test, x_test_sizes = optimized_pre_images(IMAGE_SIZE, INPUT_TESTING_FOLDER)\n",
    "y_test_expected, y_test_expected_sizes = optimized_pre_images(IMAGE_SIZE, MASKS_TESTING_FOLDER)\n",
    "\n",
    "x_test = np.float32(x_test / 255)\n",
    "y_test_expected = np.float32(y_test_expected / 255)\n",
    "\n",
    "print(x_test.shape, x_test.dtype, type(x_test))\n",
    "print(y_test_expected.shape, y_test_expected.dtype, type(y_test_expected))"
   ]
  },
  {
   "cell_type": "code",
   "execution_count": 36,
   "metadata": {},
   "outputs": [
    {
     "data": {
      "text/plain": [
       "\"\\nCách sử dụng img_generator:\\n\\nimg_gen = img_generator(image=..., mask=...)\\nx = img_gen['image']\\ny = img_gen['mask']\\n\""
      ]
     },
     "execution_count": 36,
     "metadata": {},
     "output_type": "execute_result"
    }
   ],
   "source": [
    "# Sinh thêm ảnh để train từ bộ x_train, y_train\n",
    "import cv2\n",
    "import albumentations as A\n",
    "\n",
    "# Cấu hình sinh ảnh như thế nào?\n",
    "img_generator = A.Compose([\n",
    "    A.RandomBrightnessContrast(brightness_limit=0.25, contrast_limit=0.25, p=0.5),\n",
    "    A.ShiftScaleRotate(shift_limit=0.325, scale_limit=0.15, rotate_limit=15, border_mode=cv2.BORDER_CONSTANT, p=1),\n",
    "    A.Rotate(15, p=0.5),\n",
    "    A.Blur(blur_limit=1, p=0.5),\n",
    "    A.Downscale(scale_min=0.15, scale_max=0.25, always_apply=False, p=0.5),\n",
    "    A.GaussNoise(var_limit=(0.05, 0.1), mean=0,\n",
    "                 per_channel=True, always_apply=False, p=0.5),\n",
    "    A.HorizontalFlip(p=0.25),\n",
    "])\n",
    "\n",
    "\"\"\"\n",
    "Cách sử dụng img_generator:\n",
    "\n",
    "img_gen = img_generator(image=..., mask=...)\n",
    "x = img_gen['image']\n",
    "y = img_gen['mask']\n",
    "\"\"\"\n"
   ]
  },
  {
   "cell_type": "code",
   "execution_count": 37,
   "metadata": {},
   "outputs": [],
   "source": [
    "# Dùng để lưu mấy ảnh nó sinh ra\n",
    "GENERATOR_X_TRAIN_SAVE_FOLDER = \"./Inputs/Generators/\"\n",
    "GENERATOR_Y_TRAIN_SAVE_FOLDER = \"./Masks_512x512/Generators/\""
   ]
  },
  {
   "cell_type": "code",
   "execution_count": 38,
   "metadata": {},
   "outputs": [],
   "source": [
    "# Reset GENERATOR_X_TRAIN_SAVE_FOLDER, GENERATOR_Y_TRAIN_SAVE_FOLDER\n",
    "import os\n",
    "\n",
    "for f in os.listdir(GENERATOR_X_TRAIN_SAVE_FOLDER):\n",
    "    os.remove(GENERATOR_X_TRAIN_SAVE_FOLDER + f)\n",
    "\n",
    "for f in os.listdir(GENERATOR_Y_TRAIN_SAVE_FOLDER):\n",
    "    os.remove(GENERATOR_Y_TRAIN_SAVE_FOLDER + f)"
   ]
  },
  {
   "cell_type": "code",
   "execution_count": 39,
   "metadata": {},
   "outputs": [
    {
     "name": "stdout",
     "output_type": "stream",
     "text": [
      "(648, 512, 512, 1) (648, 512, 512, 1)\n"
     ]
    }
   ],
   "source": [
    "# Sinh ảnh và lưu ảnh\n",
    "\n",
    "number_of_generate = 5\n",
    "\n",
    "for _ in range(number_of_generate):\n",
    "\n",
    "    temp_x = x_train.copy()\n",
    "    temp_y = y_train.copy()\n",
    "\n",
    "    count = len(temp_x)\n",
    "    for i in range(count):\n",
    "        x_img = temp_x[i]\n",
    "        y_img = temp_y[i]\n",
    "        img_gen = img_generator(image=x_img, mask=y_img)\n",
    "        x_img = img_gen['image']\n",
    "        y_img = img_gen['mask']\n",
    "\n",
    "        # Lưu cái cặp ảnh sinh ra này (thằng cuối x 255 để chuyển lại trả màu của RGB)\n",
    "        cv2.imwrite(GENERATOR_X_TRAIN_SAVE_FOLDER + f'{_}{i}.png', np.uint8(x_img * 255))\n",
    "        cv2.imwrite(GENERATOR_Y_TRAIN_SAVE_FOLDER + f'{_}{i}.png', np.uint8(y_img * 255))\n",
    "\n",
    "        temp_x[i] = x_img\n",
    "        temp_y[i] = y_img\n",
    "    \n",
    "    X = np.concatenate((X, temp_x))\n",
    "    Y = np.concatenate((Y, temp_y))\n",
    "\n",
    "x_train = X.copy()\n",
    "y_train = Y.copy()\n",
    "\n",
    "print(x_train.shape, y_train.shape)\n"
   ]
  },
  {
   "cell_type": "code",
   "execution_count": 40,
   "metadata": {},
   "outputs": [],
   "source": [
    "#For Relase unneccasery memory\n",
    "del temp_x, temp_y, x_img, y_img, img_gen"
   ]
  },
  {
   "cell_type": "code",
   "execution_count": 41,
   "metadata": {},
   "outputs": [
    {
     "name": "stdout",
     "output_type": "stream",
     "text": [
      "(512, 512, 1) (512, 512, 1)\n"
     ]
    }
   ],
   "source": [
    "# Chọn đại một ảnh để xem đầu vào khớp chưa (có thể khỏi chạy)\n",
    "import random\n",
    "import matplotlib.pyplot as plt\n",
    "\n",
    "number_of_images = len(x_train)\n",
    "random_index = random.randint(0, number_of_images)\n",
    "\n",
    "rand_x = x_train[random_index]\n",
    "rand_y = y_train[random_index]\n",
    "\n",
    "print(rand_x.shape, rand_y.shape)"
   ]
  },
  {
   "cell_type": "code",
   "execution_count": 42,
   "metadata": {},
   "outputs": [
    {
     "data": {
      "text/plain": [
       "<matplotlib.image.AxesImage at 0x1f62110ad40>"
      ]
     },
     "execution_count": 42,
     "metadata": {},
     "output_type": "execute_result"
    },
    {
     "data": {
      "image/png": "[encoded data removed]",
      "text/plain": [
       "<Figure size 640x480 with 1 Axes>"
      ]
     },
     "metadata": {},
     "output_type": "display_data"
    }
   ],
   "source": [
    "plt.imshow(rand_x)"
   ]
  },
  {
   "cell_type": "code",
   "execution_count": 43,
   "metadata": {},
   "outputs": [
    {
     "data": {
      "text/plain": [
       "<matplotlib.image.AxesImage at 0x1f62eaa1c60>"
      ]
     },
     "execution_count": 43,
     "metadata": {},
     "output_type": "execute_result"
    },
    {
     "data": {
      "image/png": "[encoded data removed]",
      "text/plain": [
       "<Figure size 640x480 with 1 Axes>"
      ]
     },
     "metadata": {},
     "output_type": "display_data"
    }
   ],
   "source": [
    "plt.imshow(rand_y)"
   ]
  },
  {
   "cell_type": "code",
   "execution_count": 44,
   "metadata": {},
   "outputs": [],
   "source": [
    "import numpy as np\n",
    "from glob import glob\n",
    "\n",
    "from tensorflow import keras\n",
    "from tensorflow.keras.layers import Input, Conv2D, Dropout, Activation, UpSampling2D, GlobalMaxPooling2D, multiply\n",
    "from tensorflow.keras.backend import max"
   ]
  },
  {
   "cell_type": "code",
   "execution_count": 45,
   "metadata": {},
   "outputs": [],
   "source": [
    "from keras_unet_collection import models, base, utils\n",
    "\n",
    "name = 'unet3plus'\n",
    "activation = 'ReLU'\n",
    "filter_num_down = [32, 64, 128, 256, 512]\n",
    "filter_num_skip = [32, 32, 32, 32]\n",
    "filter_num_aggregate = 160\n",
    "\n",
    "stack_num_down = 2\n",
    "stack_num_up = 1\n",
    "n_labels = 3\n",
    "\n",
    "# `unet_3plus_2d_base` accepts an input tensor \n",
    "# and produces output tensors from different upsampling levels\n",
    "# ---------------------------------------- #\n",
    "input_tensor = keras.layers.Input((512, 512, 1))\n",
    "# base architecture\n",
    "X_decoder = base.unet_3plus_2d_base(\n",
    "    input_tensor, filter_num_down, filter_num_skip, filter_num_aggregate, \n",
    "    stack_num_down=stack_num_down, stack_num_up=stack_num_up, activation=activation, \n",
    "    batch_norm=True, pool=True, unpool=True, backbone=None, name=name)"
   ]
  },
  {
   "cell_type": "code",
   "execution_count": 46,
   "metadata": {},
   "outputs": [
    {
     "data": {
      "text/plain": [
       "[<KerasTensor: shape=(None, 32, 32, 512) dtype=float32 (created by layer 'unet3plus_down4_conv_1_activation')>,\n",
       " <KerasTensor: shape=(None, 64, 64, 160) dtype=float32 (created by layer 'unet3plus_fusion_conv_0_0_activation')>,\n",
       " <KerasTensor: shape=(None, 128, 128, 160) dtype=float32 (created by layer 'unet3plus_fusion_conv_1_0_activation')>,\n",
       " <KerasTensor: shape=(None, 256, 256, 160) dtype=float32 (created by layer 'unet3plus_fusion_conv_2_0_activation')>,\n",
       " <KerasTensor: shape=(None, 512, 512, 160) dtype=float32 (created by layer 'unet3plus_fusion_conv_3_0_activation')>]"
      ]
     },
     "execution_count": 46,
     "metadata": {},
     "output_type": "execute_result"
    }
   ],
   "source": [
    "X_decoder"
   ]
  },
  {
   "cell_type": "code",
   "execution_count": 47,
   "metadata": {},
   "outputs": [],
   "source": [
    "# allocating deep supervision tensors\n",
    "OUT_stack = []\n",
    "# reverse indexing `X_decoder`, so smaller tensors have larger list indices \n",
    "X_decoder = X_decoder[::-1]\n",
    "\n",
    "# deep supervision outputs\n",
    "for i in range(1, len(X_decoder)):\n",
    "    # 3-by-3 conv2d --> upsampling --> sigmoid output activation\n",
    "    pool_size = 2**(i)\n",
    "    X = Conv2D(n_labels, 3, padding='same', name='{}_output_conv1_{}'.format(name, i-1))(X_decoder[i])\n",
    "    \n",
    "    X = UpSampling2D((pool_size, pool_size), interpolation='bilinear', \n",
    "                     name='{}_output_sup{}'.format(name, i-1))(X)\n",
    "    \n",
    "    X = Activation('sigmoid', name='{}_output_sup{}_activation'.format(name, i-1))(X)\n",
    "    # collecting deep supervision tensors\n",
    "    OUT_stack.append(X)\n",
    "\n",
    "# the final output (without extra upsampling)\n",
    "# 3-by-3 conv2d --> sigmoid output activation\n",
    "X = Conv2D(n_labels, 3, padding='same', name='{}_output_final'.format(name))(X_decoder[0])\n",
    "X = Activation('sigmoid', name='{}_output_final_activation'.format(name))(X)\n",
    "# collecting final output tensors\n",
    "OUT_stack.append(X)"
   ]
  },
  {
   "cell_type": "code",
   "execution_count": 48,
   "metadata": {},
   "outputs": [
    {
     "data": {
      "text/plain": [
       "[<KerasTensor: shape=(None, 512, 512, 3) dtype=float32 (created by layer 'unet3plus_output_sup0_activation')>,\n",
       " <KerasTensor: shape=(None, 512, 512, 3) dtype=float32 (created by layer 'unet3plus_output_sup1_activation')>,\n",
       " <KerasTensor: shape=(None, 512, 512, 3) dtype=float32 (created by layer 'unet3plus_output_sup2_activation')>,\n",
       " <KerasTensor: shape=(None, 512, 512, 3) dtype=float32 (created by layer 'unet3plus_output_sup3_activation')>,\n",
       " <KerasTensor: shape=(None, 512, 512, 3) dtype=float32 (created by layer 'unet3plus_output_final_activation')>]"
      ]
     },
     "execution_count": 48,
     "metadata": {},
     "output_type": "execute_result"
    }
   ],
   "source": [
    "OUT_stack"
   ]
  },
  {
   "cell_type": "code",
   "execution_count": 49,
   "metadata": {},
   "outputs": [],
   "source": [
    "# Classification-guided Module (CGM)\n",
    "# ---------------------------------------- #\n",
    "# dropout --> 1-by-1 conv2d --> global-maxpooling --> sigmoid\n",
    "X_CGM = X_decoder[-1]\n",
    "X_CGM = Dropout(rate=0.1)(X_CGM)\n",
    "X_CGM = Conv2D(filter_num_skip[-1], 1, padding='same')(X_CGM)\n",
    "X_CGM = GlobalMaxPooling2D()(X_CGM)\n",
    "X_CGM = Activation('sigmoid')(X_CGM)\n",
    "\n",
    "CGM_mask = max(X_CGM, axis=-1) # <----- This value could be trained with \"none-organ image\"\n",
    "\n",
    "for i in range(len(OUT_stack)):\n",
    "    if i < len(OUT_stack)-1:\n",
    "        # deep-supervision\n",
    "        OUT_stack[i] = multiply([OUT_stack[i], CGM_mask], name='{}_output_sup{}_CGM'.format(name, i))\n",
    "    else:\n",
    "        # final output\n",
    "        OUT_stack[i] = multiply([OUT_stack[i], CGM_mask], name='{}_output_final_CGM'.format(name))"
   ]
  },
  {
   "cell_type": "code",
   "execution_count": 50,
   "metadata": {},
   "outputs": [
    {
     "data": {
      "text/plain": [
       "[<KerasTensor: shape=(None, 512, 512, 3) dtype=float32 (created by layer 'unet3plus_output_sup0_CGM')>,\n",
       " <KerasTensor: shape=(None, 512, 512, 3) dtype=float32 (created by layer 'unet3plus_output_sup1_CGM')>,\n",
       " <KerasTensor: shape=(None, 512, 512, 3) dtype=float32 (created by layer 'unet3plus_output_sup2_CGM')>,\n",
       " <KerasTensor: shape=(None, 512, 512, 3) dtype=float32 (created by layer 'unet3plus_output_sup3_CGM')>,\n",
       " <KerasTensor: shape=(None, 512, 512, 3) dtype=float32 (created by layer 'unet3plus_output_final_CGM')>]"
      ]
     },
     "execution_count": 50,
     "metadata": {},
     "output_type": "execute_result"
    }
   ],
   "source": [
    "OUT_stack"
   ]
  },
  {
   "cell_type": "code",
   "execution_count": 51,
   "metadata": {},
   "outputs": [],
   "source": [
    "# executing all the above cells in one time to avoid dupilcated tensor names.\n",
    "unet3plus = keras.models.Model([input_tensor,], OUT_stack)"
   ]
  },
  {
   "cell_type": "code",
   "execution_count": 52,
   "metadata": {},
   "outputs": [],
   "source": [
    "from keras_unet_collection import losses\n",
    "\n",
    "def hybrid_loss(y_true, y_pred):\n",
    "\n",
    "    loss_focal = losses.focal_tversky(y_true, y_pred, alpha=0.5, gamma=4/3)\n",
    "    loss_iou = losses.iou_seg(y_true, y_pred)\n",
    "    \n",
    "    # (x) \n",
    "    #loss_ssim = losses.ms_ssim(y_true, y_pred, max_val=1.0, filter_size=4)\n",
    "    \n",
    "    return loss_focal+loss_iou #+loss_ssim"
   ]
  },
  {
   "cell_type": "code",
   "execution_count": 53,
   "metadata": {},
   "outputs": [],
   "source": [
    "unet3plus.compile(loss=[hybrid_loss, hybrid_loss, hybrid_loss, hybrid_loss, hybrid_loss],\n",
    "                  loss_weights=[0.25, 0.25, 0.25, 0.25, 1.0],\n",
    "                  optimizer=keras.optimizers.Adam(learning_rate=1e-4))\n"
   ]
  },
  {
   "cell_type": "code",
   "execution_count": 54,
   "metadata": {},
   "outputs": [
    {
     "name": "stdout",
     "output_type": "stream",
     "text": [
      "Epoch 1/10\n"
     ]
    },
    {
     "ename": "ResourceExhaustedError",
     "evalue": "Graph execution error:\n\nSameWorkerRecvDone unable to allocate output tensor. Key: /job:localhost/replica:0/task:0/device:CPU:0;e7d67e2ac5985081;/job:localhost/replica:0/task:0/device:GPU:0;edge_171_IteratorGetNext;0:0\n\t [[{{node IteratorGetNext/_2}}]]\nHint: If you want to see a list of allocated tensors when OOM happens, add report_tensor_allocations_upon_oom to RunOptions for current allocation info. This isn't available when running in Eager mode.\n [Op:__inference_train_function_11518]",
     "output_type": "error",
     "traceback": [
      "\u001b[1;31m---------------------------------------------------------------------------\u001b[0m",
      "\u001b[1;31mResourceExhaustedError\u001b[0m                    Traceback (most recent call last)",
      "\u001b[1;32mc:\\Users\\bang0\\Downloads\\Compressed\\Custom-Segmentation-Of-Teeth\\Main.ipynb Cell 27\u001b[0m in \u001b[0;36m<cell line: 1>\u001b[1;34m()\u001b[0m\n\u001b[1;32m----> <a href='vscode-notebook-cell:/c%3A/Users/bang0/Downloads/Compressed/Custom-Segmentation-Of-Teeth/Main.ipynb#X51sZmlsZQ%3D%3D?line=0'>1</a>\u001b[0m unet3plus\u001b[39m.\u001b[39;49mfit(x_train,y_train,batch_size\u001b[39m=\u001b[39;49m\u001b[39m100\u001b[39;49m,epochs\u001b[39m=\u001b[39;49m\u001b[39m10\u001b[39;49m,verbose\u001b[39m=\u001b[39;49m\u001b[39m1\u001b[39;49m)\n",
      "File \u001b[1;32mc:\\Users\\bang0\\AppData\\Local\\Programs\\Python\\Python310\\lib\\site-packages\\keras\\utils\\traceback_utils.py:67\u001b[0m, in \u001b[0;36mfilter_traceback.<locals>.error_handler\u001b[1;34m(*args, **kwargs)\u001b[0m\n\u001b[0;32m     65\u001b[0m \u001b[39mexcept\u001b[39;00m \u001b[39mException\u001b[39;00m \u001b[39mas\u001b[39;00m e:  \u001b[39m# pylint: disable=broad-except\u001b[39;00m\n\u001b[0;32m     66\u001b[0m   filtered_tb \u001b[39m=\u001b[39m _process_traceback_frames(e\u001b[39m.\u001b[39m__traceback__)\n\u001b[1;32m---> 67\u001b[0m   \u001b[39mraise\u001b[39;00m e\u001b[39m.\u001b[39mwith_traceback(filtered_tb) \u001b[39mfrom\u001b[39;00m \u001b[39mNone\u001b[39m\n\u001b[0;32m     68\u001b[0m \u001b[39mfinally\u001b[39;00m:\n\u001b[0;32m     69\u001b[0m   \u001b[39mdel\u001b[39;00m filtered_tb\n",
      "File \u001b[1;32m~\\AppData\\Roaming\\Python\\Python310\\site-packages\\tensorflow\\python\\eager\\execute.py:54\u001b[0m, in \u001b[0;36mquick_execute\u001b[1;34m(op_name, num_outputs, inputs, attrs, ctx, name)\u001b[0m\n\u001b[0;32m     52\u001b[0m \u001b[39mtry\u001b[39;00m:\n\u001b[0;32m     53\u001b[0m   ctx\u001b[39m.\u001b[39mensure_initialized()\n\u001b[1;32m---> 54\u001b[0m   tensors \u001b[39m=\u001b[39m pywrap_tfe\u001b[39m.\u001b[39mTFE_Py_Execute(ctx\u001b[39m.\u001b[39m_handle, device_name, op_name,\n\u001b[0;32m     55\u001b[0m                                       inputs, attrs, num_outputs)\n\u001b[0;32m     56\u001b[0m \u001b[39mexcept\u001b[39;00m core\u001b[39m.\u001b[39m_NotOkStatusException \u001b[39mas\u001b[39;00m e:\n\u001b[0;32m     57\u001b[0m   \u001b[39mif\u001b[39;00m name \u001b[39mis\u001b[39;00m \u001b[39mnot\u001b[39;00m \u001b[39mNone\u001b[39;00m:\n",
      "\u001b[1;31mResourceExhaustedError\u001b[0m: Graph execution error:\n\nSameWorkerRecvDone unable to allocate output tensor. Key: /job:localhost/replica:0/task:0/device:CPU:0;e7d67e2ac5985081;/job:localhost/replica:0/task:0/device:GPU:0;edge_171_IteratorGetNext;0:0\n\t [[{{node IteratorGetNext/_2}}]]\nHint: If you want to see a list of allocated tensors when OOM happens, add report_tensor_allocations_upon_oom to RunOptions for current allocation info. This isn't available when running in Eager mode.\n [Op:__inference_train_function_11518]"
     ]
    }
   ],
   "source": [
    "unet3plus.fit(x_train,y_train,batch_size=100,epochs=10,verbose=1)"
   ]
  },
  {
   "cell_type": "markdown",
   "metadata": {},
   "source": [
    "Tới đây thì coi như xử lý ảnh đã xong\n",
    "Size hình: IMAGE_SIZE\n",
    "Dữ liệu để train: x_train\n",
    "Mask của train: y_train\n"
   ]
  },
  {
   "cell_type": "code",
   "execution_count": null,
   "metadata": {},
   "outputs": [],
   "source": [
    "# Hàm để lưu model sau khi train\n",
    "from datetime import datetime\n",
    "def model_save(model):\n",
    "    now = datetime.now()\n",
    "    model_name = f\"model_trained_{now.strftime('%d-%m-%Y+%H-%M-%S')}\"\n",
    "    model.save(f\"{model_name}.h5\")"
   ]
  },
  {
   "cell_type": "code",
   "execution_count": null,
   "metadata": {},
   "outputs": [],
   "source": [
    "# Xây mô hình ở đây\n",
    "from model import *\n",
    "input_shape = (*IMAGE_SIZE, 1)\n",
    "model=UNET(input_shape=input_shape, last_activation='sigmoid')\n",
    "model.summary()"
   ]
  },
  {
   "cell_type": "code",
   "execution_count": null,
   "metadata": {},
   "outputs": [],
   "source": [
    "#Complie for model\n",
    "model.compile(optimizer ='adam', loss = 'binary_crossentropy', metrics = ['accuracy'])"
   ]
  },
  {
   "cell_type": "code",
   "execution_count": null,
   "metadata": {},
   "outputs": [],
   "source": [
    "\n",
    "#Train model\n",
    "#Your choice batch and epoch\n",
    "model.fit(x_train, y_train, batch_size=8, epochs=200, verbose=1)\n"
   ]
  },
  {
   "cell_type": "code",
   "execution_count": null,
   "metadata": {},
   "outputs": [],
   "source": [
    "# Load model ra để dùng\n",
    "from keras.models import load_model\n",
    "model_path = \"model_trained_17-08-2022+08-26-38.h5\"\n",
    "model = load_model(model_path)"
   ]
  },
  {
   "cell_type": "code",
   "execution_count": null,
   "metadata": {},
   "outputs": [],
   "source": [
    "y_test_predict = model.predict(x_test)"
   ]
  },
  {
   "cell_type": "code",
   "execution_count": null,
   "metadata": {},
   "outputs": [],
   "source": [
    "# Lưu ảnh gốc với tấm ảnh nó dự đoán, với tấm ảnh mong đợi nó ra\n",
    "for i, predict in enumerate(y_test_predict):\n",
    "    \n",
    "    folder = PREDICT_FOLDER + f\"{i}/\"\n",
    "    if not os.path.exists(folder): os.mkdir(folder)\n",
    "    for f in os.listdir(folder): os.remove(folder + f)\n",
    "    \n",
    "    cv2.imwrite(PREDICT_FOLDER + f\"{i}/{i}_x_test.png\", np.uint8(x_test[i] * 255))\n",
    "    cv2.imwrite(PREDICT_FOLDER + f\"{i}/{i}_y_predict.png\", np.uint8(predict * 255))\n",
    "    cv2.imwrite(PREDICT_FOLDER + f\"{i}/{i}_y_expected.png\", np.uint8(y_test_expected[i] * 255))"
   ]
  },
  {
   "cell_type": "code",
   "execution_count": null,
   "metadata": {},
   "outputs": [],
   "source": [
    "# Phân đoạn dựa trên ảnh đầu vào, ảnh predict\n",
    "from CCA_Analysis import *\n",
    "\n",
    "original_x_test = os.listdir(INPUT_TESTING_FOLDER)\n",
    "\n",
    "for i, x_test_name in enumerate(original_x_test):\n",
    "\n",
    "    img = cv2.imread(INPUT_TESTING_FOLDER + x_test_name)\n",
    "    plt.imsave(PREDICT_FOLDER + f\"{i}/{i}_x_test_original.png\", img)\n",
    "\n",
    "    shape = (img.shape[1], img.shape[0])\n",
    "\n",
    "    predict = cv2.imread(PREDICT_FOLDER + f\"{i}/{i}_y_predict.png\")\n",
    "    predict = cv2.resize(predict, shape, interpolation=cv2.INTER_LANCZOS4)\n",
    "\n",
    "    cca_predict, teeth_count = CCA_Analysis(img, predict, 3, 2)\n",
    "    plt.imsave(PREDICT_FOLDER + f\"{i}/{i}_y_test_predict_original.png\", predict)\n",
    "    plt.imsave(PREDICT_FOLDER + f\"{i}/{i}_cca+teeth_count_{teeth_count}.png\", cca_predict)\n",
    "    "
   ]
  }
 ],
 "metadata": {
  "kernelspec": {
   "display_name": "Python 3.10.6 64-bit",
   "language": "python",
   "name": "python3"
  },
  "language_info": {
   "codemirror_mode": {
    "name": "ipython",
    "version": 3
   },
   "file_extension": ".py",
   "mimetype": "text/x-python",
   "name": "python",
   "nbconvert_exporter": "python",
   "pygments_lexer": "ipython3",
   "version": "3.10.6"
  },
  "orig_nbformat": 4,
  "vscode": {
   "interpreter": {
    "hash": "d9a65d5d64a7e7156a8fedc215fa9bf0baf6d0c2abcdce12ceeeff0643fb3a20"
   }
  }
 },
 "nbformat": 4,
 "nbformat_minor": 2
}
